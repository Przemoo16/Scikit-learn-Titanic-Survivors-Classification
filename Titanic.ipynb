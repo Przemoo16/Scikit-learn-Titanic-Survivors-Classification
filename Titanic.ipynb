{
 "cells": [
  {
   "cell_type": "markdown",
   "metadata": {},
   "source": [
    "# Titanic Survivors Classification"
   ]
  },
  {
   "cell_type": "markdown",
   "metadata": {},
   "source": [
    "## PREPARE DATA"
   ]
  },
  {
   "cell_type": "code",
   "execution_count": 1,
   "metadata": {},
   "outputs": [],
   "source": [
    "import pandas as pd\n",
    "import numpy as np\n",
    "import seaborn as sns\n",
    "%matplotlib inline\n",
    "\n",
    "from sklearn.preprocessing import MinMaxScaler\n",
    "from sklearn.linear_model import LogisticRegression, SGDClassifier, Perceptron\n",
    "from sklearn.svm import SVC, LinearSVC \n",
    "from sklearn.neighbors import KNeighborsClassifier\n",
    "from sklearn.naive_bayes import GaussianNB\n",
    "from sklearn.tree import DecisionTreeClassifier\n",
    "from sklearn.ensemble import RandomForestRegressor\n",
    "from sklearn.model_selection import KFold, GridSearchCV, cross_val_score, train_test_split\n",
    "\n",
    "import warnings\n",
    "warnings.filterwarnings('ignore')"
   ]
  },
  {
   "cell_type": "code",
   "execution_count": 2,
   "metadata": {},
   "outputs": [],
   "source": [
    "#Load data\n",
    "train_test = pd.read_csv('./Dataset/train.csv', index_col='PassengerId')\n",
    "predict = pd.read_csv('./Dataset/test.csv', index_col='PassengerId')"
   ]
  },
  {
   "cell_type": "code",
   "execution_count": 3,
   "metadata": {},
   "outputs": [
    {
     "data": {
      "text/plain": [
       "Survived      0\n",
       "Pclass        0\n",
       "Name          0\n",
       "Sex           0\n",
       "Age         177\n",
       "SibSp         0\n",
       "Parch         0\n",
       "Ticket        0\n",
       "Fare          0\n",
       "Cabin       687\n",
       "Embarked      2\n",
       "dtype: int64"
      ]
     },
     "execution_count": 3,
     "metadata": {},
     "output_type": "execute_result"
    }
   ],
   "source": [
    "#Show all nulls in columns\n",
    "train_test.isnull().sum()"
   ]
  },
  {
   "cell_type": "code",
   "execution_count": 4,
   "metadata": {},
   "outputs": [
    {
     "data": {
      "text/html": [
       "<div>\n",
       "<style scoped>\n",
       "    .dataframe tbody tr th:only-of-type {\n",
       "        vertical-align: middle;\n",
       "    }\n",
       "\n",
       "    .dataframe tbody tr th {\n",
       "        vertical-align: top;\n",
       "    }\n",
       "\n",
       "    .dataframe thead th {\n",
       "        text-align: right;\n",
       "    }\n",
       "</style>\n",
       "<table border=\"1\" class=\"dataframe\">\n",
       "  <thead>\n",
       "    <tr style=\"text-align: right;\">\n",
       "      <th></th>\n",
       "      <th>Pclass</th>\n",
       "      <th>Survived</th>\n",
       "    </tr>\n",
       "  </thead>\n",
       "  <tbody>\n",
       "    <tr>\n",
       "      <th>0</th>\n",
       "      <td>1</td>\n",
       "      <td>0.629630</td>\n",
       "    </tr>\n",
       "    <tr>\n",
       "      <th>1</th>\n",
       "      <td>2</td>\n",
       "      <td>0.472826</td>\n",
       "    </tr>\n",
       "    <tr>\n",
       "      <th>2</th>\n",
       "      <td>3</td>\n",
       "      <td>0.242363</td>\n",
       "    </tr>\n",
       "  </tbody>\n",
       "</table>\n",
       "</div>"
      ],
      "text/plain": [
       "   Pclass  Survived\n",
       "0       1  0.629630\n",
       "1       2  0.472826\n",
       "2       3  0.242363"
      ]
     },
     "execution_count": 4,
     "metadata": {},
     "output_type": "execute_result"
    }
   ],
   "source": [
    "#Correlation between Pclass and Survived\n",
    "train_test[[\"Pclass\", \"Survived\"]].groupby([\"Pclass\"], as_index=False).mean().sort_values(by=\"Survived\", ascending=False)"
   ]
  },
  {
   "cell_type": "code",
   "execution_count": 5,
   "metadata": {},
   "outputs": [
    {
     "data": {
      "text/html": [
       "<div>\n",
       "<style scoped>\n",
       "    .dataframe tbody tr th:only-of-type {\n",
       "        vertical-align: middle;\n",
       "    }\n",
       "\n",
       "    .dataframe tbody tr th {\n",
       "        vertical-align: top;\n",
       "    }\n",
       "\n",
       "    .dataframe thead th {\n",
       "        text-align: right;\n",
       "    }\n",
       "</style>\n",
       "<table border=\"1\" class=\"dataframe\">\n",
       "  <thead>\n",
       "    <tr style=\"text-align: right;\">\n",
       "      <th></th>\n",
       "      <th>Sex</th>\n",
       "      <th>Survived</th>\n",
       "    </tr>\n",
       "  </thead>\n",
       "  <tbody>\n",
       "    <tr>\n",
       "      <th>0</th>\n",
       "      <td>female</td>\n",
       "      <td>0.742038</td>\n",
       "    </tr>\n",
       "    <tr>\n",
       "      <th>1</th>\n",
       "      <td>male</td>\n",
       "      <td>0.188908</td>\n",
       "    </tr>\n",
       "  </tbody>\n",
       "</table>\n",
       "</div>"
      ],
      "text/plain": [
       "      Sex  Survived\n",
       "0  female  0.742038\n",
       "1    male  0.188908"
      ]
     },
     "execution_count": 5,
     "metadata": {},
     "output_type": "execute_result"
    }
   ],
   "source": [
    "#Correlation between Sex and Survived\n",
    "train_test[['Sex', 'Survived']].groupby(['Sex'], as_index=False).mean().sort_values(by='Survived', ascending=False)"
   ]
  },
  {
   "cell_type": "code",
   "execution_count": 6,
   "metadata": {},
   "outputs": [
    {
     "data": {
      "text/html": [
       "<div>\n",
       "<style scoped>\n",
       "    .dataframe tbody tr th:only-of-type {\n",
       "        vertical-align: middle;\n",
       "    }\n",
       "\n",
       "    .dataframe tbody tr th {\n",
       "        vertical-align: top;\n",
       "    }\n",
       "\n",
       "    .dataframe thead th {\n",
       "        text-align: right;\n",
       "    }\n",
       "</style>\n",
       "<table border=\"1\" class=\"dataframe\">\n",
       "  <thead>\n",
       "    <tr style=\"text-align: right;\">\n",
       "      <th></th>\n",
       "      <th>SibSp</th>\n",
       "      <th>Survived</th>\n",
       "    </tr>\n",
       "  </thead>\n",
       "  <tbody>\n",
       "    <tr>\n",
       "      <th>1</th>\n",
       "      <td>1</td>\n",
       "      <td>0.535885</td>\n",
       "    </tr>\n",
       "    <tr>\n",
       "      <th>2</th>\n",
       "      <td>2</td>\n",
       "      <td>0.464286</td>\n",
       "    </tr>\n",
       "    <tr>\n",
       "      <th>0</th>\n",
       "      <td>0</td>\n",
       "      <td>0.345395</td>\n",
       "    </tr>\n",
       "    <tr>\n",
       "      <th>3</th>\n",
       "      <td>3</td>\n",
       "      <td>0.250000</td>\n",
       "    </tr>\n",
       "    <tr>\n",
       "      <th>4</th>\n",
       "      <td>4</td>\n",
       "      <td>0.166667</td>\n",
       "    </tr>\n",
       "    <tr>\n",
       "      <th>5</th>\n",
       "      <td>5</td>\n",
       "      <td>0.000000</td>\n",
       "    </tr>\n",
       "    <tr>\n",
       "      <th>6</th>\n",
       "      <td>8</td>\n",
       "      <td>0.000000</td>\n",
       "    </tr>\n",
       "  </tbody>\n",
       "</table>\n",
       "</div>"
      ],
      "text/plain": [
       "   SibSp  Survived\n",
       "1      1  0.535885\n",
       "2      2  0.464286\n",
       "0      0  0.345395\n",
       "3      3  0.250000\n",
       "4      4  0.166667\n",
       "5      5  0.000000\n",
       "6      8  0.000000"
      ]
     },
     "execution_count": 6,
     "metadata": {},
     "output_type": "execute_result"
    }
   ],
   "source": [
    "#Correlation between SibSp and Survived\n",
    "train_test[['SibSp', 'Survived']].groupby(['SibSp'], as_index=False).mean().sort_values(by='Survived', ascending=False)"
   ]
  },
  {
   "cell_type": "code",
   "execution_count": 7,
   "metadata": {},
   "outputs": [
    {
     "data": {
      "text/html": [
       "<div>\n",
       "<style scoped>\n",
       "    .dataframe tbody tr th:only-of-type {\n",
       "        vertical-align: middle;\n",
       "    }\n",
       "\n",
       "    .dataframe tbody tr th {\n",
       "        vertical-align: top;\n",
       "    }\n",
       "\n",
       "    .dataframe thead th {\n",
       "        text-align: right;\n",
       "    }\n",
       "</style>\n",
       "<table border=\"1\" class=\"dataframe\">\n",
       "  <thead>\n",
       "    <tr style=\"text-align: right;\">\n",
       "      <th></th>\n",
       "      <th>Parch</th>\n",
       "      <th>Survived</th>\n",
       "    </tr>\n",
       "  </thead>\n",
       "  <tbody>\n",
       "    <tr>\n",
       "      <th>3</th>\n",
       "      <td>3</td>\n",
       "      <td>0.600000</td>\n",
       "    </tr>\n",
       "    <tr>\n",
       "      <th>1</th>\n",
       "      <td>1</td>\n",
       "      <td>0.550847</td>\n",
       "    </tr>\n",
       "    <tr>\n",
       "      <th>2</th>\n",
       "      <td>2</td>\n",
       "      <td>0.500000</td>\n",
       "    </tr>\n",
       "    <tr>\n",
       "      <th>0</th>\n",
       "      <td>0</td>\n",
       "      <td>0.343658</td>\n",
       "    </tr>\n",
       "    <tr>\n",
       "      <th>5</th>\n",
       "      <td>5</td>\n",
       "      <td>0.200000</td>\n",
       "    </tr>\n",
       "    <tr>\n",
       "      <th>4</th>\n",
       "      <td>4</td>\n",
       "      <td>0.000000</td>\n",
       "    </tr>\n",
       "    <tr>\n",
       "      <th>6</th>\n",
       "      <td>6</td>\n",
       "      <td>0.000000</td>\n",
       "    </tr>\n",
       "  </tbody>\n",
       "</table>\n",
       "</div>"
      ],
      "text/plain": [
       "   Parch  Survived\n",
       "3      3  0.600000\n",
       "1      1  0.550847\n",
       "2      2  0.500000\n",
       "0      0  0.343658\n",
       "5      5  0.200000\n",
       "4      4  0.000000\n",
       "6      6  0.000000"
      ]
     },
     "execution_count": 7,
     "metadata": {},
     "output_type": "execute_result"
    }
   ],
   "source": [
    "#Correlation between Parch and Survived\n",
    "train_test[['Parch', 'Survived']].groupby(['Parch'], as_index=False).mean().sort_values(by='Survived', ascending=False)"
   ]
  },
  {
   "cell_type": "code",
   "execution_count": 8,
   "metadata": {},
   "outputs": [],
   "source": [
    "#Function to create new column\n",
    "def substrings_in_string(big_string, substrings):\n",
    "    for substring in substrings:\n",
    "        if str.find(big_string, substring) != -1:\n",
    "            return substring\n",
    "    return np.nan"
   ]
  },
  {
   "cell_type": "code",
   "execution_count": 9,
   "metadata": {},
   "outputs": [],
   "source": [
    "#Create new Title column based on Name column\n",
    "title_list=['Mrs', 'Mr', 'Master', 'Miss', 'Major', 'Rev',\n",
    "                    'Dr', 'Ms', 'Mlle','Col', 'Capt', 'Mme', 'Countess',\n",
    "                    'Don', 'Jonkheer']\n",
    "\n",
    "train_test['Title']=train_test['Name'].map(lambda x: substrings_in_string(x, title_list))\n",
    "predict['Title']=predict['Name'].map(lambda x: substrings_in_string(x, title_list))"
   ]
  },
  {
   "cell_type": "code",
   "execution_count": 10,
   "metadata": {},
   "outputs": [],
   "source": [
    "#Replace values in Title column on new values\n",
    "def replace_titles(x):\n",
    "    title=x['Title']\n",
    "    if title in ['Don', 'Major', 'Capt', 'Jonkheer', 'Rev', 'Col']:\n",
    "        return 'Mr'\n",
    "    elif title in ['Countess', 'Mme']:\n",
    "        return 'Mrs'\n",
    "    elif title in ['Mlle', 'Ms']:\n",
    "        return 'Miss'\n",
    "    elif title =='Dr':\n",
    "        if x['Sex']=='Male':\n",
    "            return 'Mr'\n",
    "        else:\n",
    "            return 'Mrs'\n",
    "    else:\n",
    "        return title\n",
    "\n",
    "train_test['Title']=train_test.apply(replace_titles, axis=1)\n",
    "predict['Title']=predict.apply(replace_titles, axis=1)"
   ]
  },
  {
   "cell_type": "code",
   "execution_count": 11,
   "metadata": {},
   "outputs": [],
   "source": [
    "#Create one-hot encode columns instead on numerical values in Title columns\n",
    "train_test = pd.get_dummies(train_test, columns=['Title'], drop_first=True)\n",
    "predict = pd.get_dummies(predict, columns=['Title'], drop_first=True)"
   ]
  },
  {
   "cell_type": "code",
   "execution_count": 12,
   "metadata": {},
   "outputs": [],
   "source": [
    "#Creating new family_size column\n",
    "train_test['Family_Size']=train_test['SibSp']+train_test['Parch']\n",
    "predict['Family_Size']=predict['SibSp']+predict['Parch']"
   ]
  },
  {
   "cell_type": "code",
   "execution_count": 13,
   "metadata": {},
   "outputs": [],
   "source": [
    "#Drop unnecessary columns\n",
    "train_test.drop(['Name', 'SibSp', 'Parch', 'Ticket', 'Cabin', 'Name'], axis=1, inplace=True)\n",
    "predict.drop(['Name', 'SibSp', 'Parch', 'Ticket', 'Cabin', 'Name'], axis=1, inplace=True)"
   ]
  },
  {
   "cell_type": "code",
   "execution_count": 14,
   "metadata": {},
   "outputs": [],
   "source": [
    "#Change categorical values on numerical values in Sex columns\n",
    "train_test['Sex'] = train_test['Sex'].map(lambda x: 1 if x == 'male' else 0)\n",
    "predict['Sex'] = predict['Sex'].map(lambda x: 1 if x == 'male' else 0)"
   ]
  },
  {
   "cell_type": "code",
   "execution_count": 15,
   "metadata": {},
   "outputs": [],
   "source": [
    "#Drop NaN values in Embarked column\n",
    "train_test.dropna(subset=['Embarked'], inplace=True)\n",
    "predict.dropna(subset=['Embarked'], inplace=True)"
   ]
  },
  {
   "cell_type": "code",
   "execution_count": 16,
   "metadata": {},
   "outputs": [],
   "source": [
    "#Create one-hot encode columns instead on numerical values in Embarked columns\n",
    "train_test = pd.get_dummies(train_test, columns=['Embarked'], drop_first=True)\n",
    "predict = pd.get_dummies(predict, columns=['Embarked'], drop_first=True)"
   ]
  },
  {
   "cell_type": "code",
   "execution_count": 17,
   "metadata": {},
   "outputs": [],
   "source": [
    "#Fill NaN values in Age column in train_test dataset\n",
    "age_fill = np.zeros((2,3)) \n",
    "for s in range(0, 2):\n",
    "    for p in range(0, 3):\n",
    "        age_fill_df = train_test[(train_test['Sex'] == s) &\\\n",
    "                           (train_test['Pclass'] == p + 1)]['Age'].dropna()\n",
    "        age_to_fill = age_fill_df.median()\n",
    "\n",
    "        # Convert random age float to nearest .5 age\n",
    "        age_fill[s,p] = int( age_to_fill/0.5 + 0.5 ) * 0.5\n",
    "\n",
    "for s in range(0, 2):\n",
    "    for p in range(0, 3):\n",
    "        train_test.loc[(train_test.Age.isnull()) & (train_test.Sex == s) & (train_test.Pclass == p + 1),\\\n",
    "                'Age'] = age_fill[s,p]\n",
    "\n",
    "train_test['Age'] = train_test['Age'].astype(int)"
   ]
  },
  {
   "cell_type": "code",
   "execution_count": 18,
   "metadata": {},
   "outputs": [],
   "source": [
    "#Fill NaN values in Age column in predict dataset\n",
    "age_fill = np.zeros((2,3)) \n",
    "for s in range(0, 2):\n",
    "    for p in range(0, 3):\n",
    "        age_fill_df = predict[(predict['Sex'] == s) &\\\n",
    "                           (predict['Pclass'] == p + 1)]['Age'].dropna()\n",
    "        age_to_fill = age_fill_df.median()\n",
    "\n",
    "        # Convert random age float to nearest .5 age\n",
    "        age_fill[s,p] = int( age_to_fill/0.5 + 0.5 ) * 0.5\n",
    "\n",
    "for s in range(0, 2):\n",
    "    for p in range(0, 3):\n",
    "        predict.loc[(predict.Age.isnull()) & (predict.Sex == s) & (predict.Pclass == p + 1),\\\n",
    "                'Age'] = age_fill[s,p]\n",
    "\n",
    "predict['Age'] = predict['Age'].astype(int)"
   ]
  },
  {
   "cell_type": "code",
   "execution_count": 19,
   "metadata": {},
   "outputs": [],
   "source": [
    "#Drop NaN values in Fare column\n",
    "train_test.dropna(subset=['Fare'], inplace=True)\n",
    "predict.dropna(subset=['Fare'], inplace=True)\n",
    "\n",
    "#Standardize features by removing the mean and scaling to unit variance in Fare column\n",
    "min_max = MinMaxScaler()\n",
    "\n",
    "min_max.fit(train_test['Fare'].values.reshape(-1, 1))\n",
    "train_test['Fare'] = min_max.transform(train_test['Fare'].values.reshape(-1, 1))\n",
    "predict['Fare'] = min_max.transform(predict['Fare'].values.reshape(-1, 1))"
   ]
  },
  {
   "cell_type": "code",
   "execution_count": 20,
   "metadata": {},
   "outputs": [],
   "source": [
    "#Split data on train, test and predict\n",
    "X_train, X_test, y_train, y_test = train_test_split(train_test.drop('Survived', axis=1), train_test['Survived'], test_size=0.3, random_state=101)\n",
    "X_pred = predict "
   ]
  },
  {
   "cell_type": "code",
   "execution_count": 21,
   "metadata": {},
   "outputs": [
    {
     "data": {
      "text/html": [
       "<div>\n",
       "<style scoped>\n",
       "    .dataframe tbody tr th:only-of-type {\n",
       "        vertical-align: middle;\n",
       "    }\n",
       "\n",
       "    .dataframe tbody tr th {\n",
       "        vertical-align: top;\n",
       "    }\n",
       "\n",
       "    .dataframe thead th {\n",
       "        text-align: right;\n",
       "    }\n",
       "</style>\n",
       "<table border=\"1\" class=\"dataframe\">\n",
       "  <thead>\n",
       "    <tr style=\"text-align: right;\">\n",
       "      <th></th>\n",
       "      <th>Pclass</th>\n",
       "      <th>Sex</th>\n",
       "      <th>Age</th>\n",
       "      <th>Fare</th>\n",
       "      <th>Title_Miss</th>\n",
       "      <th>Title_Mr</th>\n",
       "      <th>Title_Mrs</th>\n",
       "      <th>Family_Size</th>\n",
       "      <th>Embarked_Q</th>\n",
       "      <th>Embarked_S</th>\n",
       "    </tr>\n",
       "    <tr>\n",
       "      <th>PassengerId</th>\n",
       "      <th></th>\n",
       "      <th></th>\n",
       "      <th></th>\n",
       "      <th></th>\n",
       "      <th></th>\n",
       "      <th></th>\n",
       "      <th></th>\n",
       "      <th></th>\n",
       "      <th></th>\n",
       "      <th></th>\n",
       "    </tr>\n",
       "  </thead>\n",
       "  <tbody>\n",
       "    <tr>\n",
       "      <th>808</th>\n",
       "      <td>3</td>\n",
       "      <td>0</td>\n",
       "      <td>18</td>\n",
       "      <td>0.015176</td>\n",
       "      <td>1</td>\n",
       "      <td>0</td>\n",
       "      <td>0</td>\n",
       "      <td>0</td>\n",
       "      <td>0</td>\n",
       "      <td>1</td>\n",
       "    </tr>\n",
       "    <tr>\n",
       "      <th>652</th>\n",
       "      <td>2</td>\n",
       "      <td>0</td>\n",
       "      <td>18</td>\n",
       "      <td>0.044893</td>\n",
       "      <td>1</td>\n",
       "      <td>0</td>\n",
       "      <td>0</td>\n",
       "      <td>1</td>\n",
       "      <td>0</td>\n",
       "      <td>1</td>\n",
       "    </tr>\n",
       "    <tr>\n",
       "      <th>3</th>\n",
       "      <td>3</td>\n",
       "      <td>0</td>\n",
       "      <td>26</td>\n",
       "      <td>0.015469</td>\n",
       "      <td>1</td>\n",
       "      <td>0</td>\n",
       "      <td>0</td>\n",
       "      <td>0</td>\n",
       "      <td>0</td>\n",
       "      <td>1</td>\n",
       "    </tr>\n",
       "    <tr>\n",
       "      <th>691</th>\n",
       "      <td>1</td>\n",
       "      <td>1</td>\n",
       "      <td>31</td>\n",
       "      <td>0.111257</td>\n",
       "      <td>0</td>\n",
       "      <td>1</td>\n",
       "      <td>0</td>\n",
       "      <td>1</td>\n",
       "      <td>0</td>\n",
       "      <td>1</td>\n",
       "    </tr>\n",
       "    <tr>\n",
       "      <th>197</th>\n",
       "      <td>3</td>\n",
       "      <td>1</td>\n",
       "      <td>25</td>\n",
       "      <td>0.015127</td>\n",
       "      <td>0</td>\n",
       "      <td>1</td>\n",
       "      <td>0</td>\n",
       "      <td>0</td>\n",
       "      <td>1</td>\n",
       "      <td>0</td>\n",
       "    </tr>\n",
       "  </tbody>\n",
       "</table>\n",
       "</div>"
      ],
      "text/plain": [
       "             Pclass  Sex  Age      Fare  Title_Miss  Title_Mr  Title_Mrs  \\\n",
       "PassengerId                                                                \n",
       "808               3    0   18  0.015176           1         0          0   \n",
       "652               2    0   18  0.044893           1         0          0   \n",
       "3                 3    0   26  0.015469           1         0          0   \n",
       "691               1    1   31  0.111257           0         1          0   \n",
       "197               3    1   25  0.015127           0         1          0   \n",
       "\n",
       "             Family_Size  Embarked_Q  Embarked_S  \n",
       "PassengerId                                       \n",
       "808                    0           0           1  \n",
       "652                    1           0           1  \n",
       "3                      0           0           1  \n",
       "691                    1           0           1  \n",
       "197                    0           1           0  "
      ]
     },
     "execution_count": 21,
     "metadata": {},
     "output_type": "execute_result"
    }
   ],
   "source": [
    "X_train.head()"
   ]
  },
  {
   "cell_type": "markdown",
   "metadata": {},
   "source": [
    "## Visualize data"
   ]
  },
  {
   "cell_type": "code",
   "execution_count": 22,
   "metadata": {},
   "outputs": [
    {
     "data": {
      "text/plain": [
       "<matplotlib.axes._subplots.AxesSubplot at 0x7fcab2fa1d30>"
      ]
     },
     "execution_count": 22,
     "metadata": {},
     "output_type": "execute_result"
    },
    {
     "data": {
      "image/png": "[encoded data removed]",
      "text/plain": [
       "<Figure size 432x288 with 1 Axes>"
      ]
     },
     "metadata": {
      "needs_background": "light"
     },
     "output_type": "display_data"
    }
   ],
   "source": [
    "#Survived vs not survived\n",
    "sns.countplot(data=train_test, x='Survived')"
   ]
  },
  {
   "cell_type": "code",
   "execution_count": 23,
   "metadata": {},
   "outputs": [
    {
     "data": {
      "text/plain": [
       "<seaborn.axisgrid.PairGrid at 0x7fcaac7f5780>"
      ]
     },
     "execution_count": 23,
     "metadata": {},
     "output_type": "execute_result"
    },
    {
     "data": {
      "image/png": "[encoded data removed]",
      "text/plain": [
       "<Figure size 540x540 with 12 Axes>"
      ]
     },
     "metadata": {
      "needs_background": "light"
     },
     "output_type": "display_data"
    }
   ],
   "source": [
    "#Correlation between columns\n",
    "sns.pairplot(data=train_test[['Pclass', 'Fare', 'Age', ]])"
   ]
  },
  {
   "cell_type": "markdown",
   "metadata": {},
   "source": [
    "## TEST SOME MODELS"
   ]
  },
  {
   "cell_type": "markdown",
   "metadata": {},
   "source": [
    "### Logistic Regression"
   ]
  },
  {
   "cell_type": "code",
   "execution_count": 24,
   "metadata": {
    "scrolled": true
   },
   "outputs": [
    {
     "name": "stdout",
     "output_type": "stream",
     "text": [
      "Train = 81.51\n",
      "Test = 84.64\n",
      "Predict 10 people: [0 1 0 0 1 0 1 0 1 0]\n"
     ]
    }
   ],
   "source": [
    "LR = LogisticRegression()\n",
    "LR.fit(X_train, y_train)\n",
    "\n",
    "lr_train_score = LR.score(X_train, y_train)\n",
    "lr_test_score = LR.score(X_test, y_test)\n",
    "lr_pred = LR.predict(X_pred)\n",
    "print(\"Train = {:.2f}\".format(lr_train_score*100))\n",
    "print(\"Test = {:.2f}\".format(lr_test_score*100))\n",
    "print(\"Predict 10 people:\",lr_pred[:10])"
   ]
  },
  {
   "cell_type": "markdown",
   "metadata": {},
   "source": [
    "### SVC"
   ]
  },
  {
   "cell_type": "code",
   "execution_count": 25,
   "metadata": {
    "scrolled": true
   },
   "outputs": [
    {
     "name": "stdout",
     "output_type": "stream",
     "text": [
      "Train = 83.92\n",
      "Train = 81.27\n",
      "Predict 10 people: [0 0 0 0 1 0 1 0 1 0]\n"
     ]
    }
   ],
   "source": [
    "svc = SVC()\n",
    "svc.fit(X_train, y_train)\n",
    "\n",
    "svc_train_score = svc.score(X_train, y_train)\n",
    "svc_test_score = svc.score(X_test, y_test)\n",
    "svc_pred = svc.predict(X_pred)\n",
    "print(\"Train = {:.2f}\".format(svc_train_score*100))\n",
    "print(\"Train = {:.2f}\".format(svc_test_score*100))\n",
    "print(\"Predict 10 people:\",svc_pred[:10])"
   ]
  },
  {
   "cell_type": "markdown",
   "metadata": {},
   "source": [
    "### KNeighbors Classifier"
   ]
  },
  {
   "cell_type": "code",
   "execution_count": 26,
   "metadata": {},
   "outputs": [
    {
     "name": "stdout",
     "output_type": "stream",
     "text": [
      "Train = 83.92\n",
      "Test = 79.78\n",
      "Predict 10 people: [0 0 0 0 1 0 0 0 0 0]\n"
     ]
    }
   ],
   "source": [
    "KNN = KNeighborsClassifier(n_neighbors = 5)\n",
    "KNN.fit(X_train, y_train)\n",
    "\n",
    "kn_train_score = KNN.score(X_train, y_train)\n",
    "kn_test_score = KNN.score(X_test, y_test)\n",
    "knn_pred = KNN.predict(X_pred)\n",
    "print(\"Train = {:.2f}\".format(kn_train_score*100))\n",
    "print(\"Test = {:.2f}\".format(kn_test_score*100))\n",
    "print(\"Predict 10 people:\",knn_pred[:10])"
   ]
  },
  {
   "cell_type": "markdown",
   "metadata": {},
   "source": [
    "### GaussianNB"
   ]
  },
  {
   "cell_type": "code",
   "execution_count": 27,
   "metadata": {},
   "outputs": [
    {
     "name": "stdout",
     "output_type": "stream",
     "text": [
      "Train = 77.97\n",
      "Test = 79.78\n",
      "Predict 10 people: [0 1 0 0 1 0 1 0 1 0]\n"
     ]
    }
   ],
   "source": [
    "GNB = GaussianNB()\n",
    "GNB.fit(X_train, y_train)\n",
    "\n",
    "gnb_train_score = GNB.score(X_train, y_train)\n",
    "gnb_test_score = GNB.score(X_test, y_test)\n",
    "gnb_pred = GNB.predict(X_pred)\n",
    "print(\"Train = {:.2f}\".format(gnb_train_score*100))\n",
    "print(\"Test = {:.2f}\".format(gnb_test_score*100))\n",
    "print(\"Predict 10 people:\",gnb_pred[:10])"
   ]
  },
  {
   "cell_type": "markdown",
   "metadata": {},
   "source": [
    "### Linear SVC"
   ]
  },
  {
   "cell_type": "code",
   "execution_count": 28,
   "metadata": {
    "scrolled": true
   },
   "outputs": [
    {
     "name": "stdout",
     "output_type": "stream",
     "text": [
      "Train = 68.33\n",
      "Test = 70.79\n",
      "Predict 10 people: [0 1 1 0 1 0 1 0 1 0]\n"
     ]
    }
   ],
   "source": [
    "LSVC = LinearSVC()\n",
    "LSVC.fit(X_train, y_train)\n",
    "\n",
    "lsvc_train_score = LSVC.score(X_train, y_train)\n",
    "lsvc_test_score = LSVC.score(X_test, y_test)\n",
    "lsvc_pred = LSVC.predict(X_pred)\n",
    "print(\"Train = {:.2f}\".format(lsvc_train_score*100))\n",
    "print(\"Test = {:.2f}\".format(lsvc_test_score*100))\n",
    "print(\"Predict 10 people:\",lsvc_pred[:10])"
   ]
  },
  {
   "cell_type": "markdown",
   "metadata": {},
   "source": [
    "### Perceptron"
   ]
  },
  {
   "cell_type": "code",
   "execution_count": 29,
   "metadata": {
    "scrolled": true
   },
   "outputs": [
    {
     "name": "stdout",
     "output_type": "stream",
     "text": [
      "Train = 77.81\n",
      "Test = 78.65\n",
      "Predict 10 people: [0 1 0 0 1 0 1 0 1 0]\n"
     ]
    }
   ],
   "source": [
    "perceptron = Perceptron()\n",
    "perceptron.fit(X_train, y_train)\n",
    "\n",
    "per_train_score = perceptron.score(X_train, y_train)\n",
    "per_test_score = perceptron.score(X_test, y_test)\n",
    "per_pred = perceptron.predict(X_pred)\n",
    "print(\"Train = {:.2f}\".format(per_train_score*100))\n",
    "print(\"Test = {:.2f}\".format(per_test_score*100))\n",
    "print(\"Predict 10 people:\",per_pred[:10])"
   ]
  },
  {
   "cell_type": "markdown",
   "metadata": {},
   "source": [
    "### SGD Classifier"
   ]
  },
  {
   "cell_type": "code",
   "execution_count": 30,
   "metadata": {
    "scrolled": true
   },
   "outputs": [
    {
     "name": "stdout",
     "output_type": "stream",
     "text": [
      "Train = 42.93\n",
      "Test = 43.45\n",
      "Predict 10 people: [1 1 1 1 1 0 1 1 1 1]\n"
     ]
    }
   ],
   "source": [
    "SGD = SGDClassifier()\n",
    "SGD.fit(X_train, y_train)\n",
    "\n",
    "sgd_train_score = SGD.score(X_train, y_train)\n",
    "sgd_test_score = SGD.score(X_test, y_test)\n",
    "sgd_pred = SGD.predict(X_pred)\n",
    "print(\"Train = {:.2f}\".format(sgd_train_score*100))\n",
    "print(\"Test = {:.2f}\".format(sgd_test_score*100))\n",
    "print(\"Predict 10 people:\",sgd_pred[:10])"
   ]
  },
  {
   "cell_type": "markdown",
   "metadata": {},
   "source": [
    "### Decision Tree Classifier"
   ]
  },
  {
   "cell_type": "code",
   "execution_count": 31,
   "metadata": {},
   "outputs": [
    {
     "name": "stdout",
     "output_type": "stream",
     "text": [
      "Train = 98.71\n",
      "Test = 79.40\n",
      "Predict 10 people: [0 0 1 0 0 0 0 0 1 0]\n"
     ]
    }
   ],
   "source": [
    "DT = DecisionTreeClassifier(max_depth=None, max_features=None, min_samples_leaf=1, random_state=42)\n",
    "DT.fit(X_train, y_train)\n",
    "\n",
    "dt_train_score = DT.score(X_train, y_train)\n",
    "dt_test_score = DT.score(X_test, y_test)\n",
    "dt_pred = DT.predict(X_pred)\n",
    "print(\"Train = {:.2f}\".format(dt_train_score*100))\n",
    "print(\"Test = {:.2f}\".format(dt_test_score*100))\n",
    "print(\"Predict 10 people:\",dt_pred[:10])"
   ]
  },
  {
   "cell_type": "markdown",
   "metadata": {},
   "source": [
    "### Random Forest Regressor"
   ]
  },
  {
   "cell_type": "code",
   "execution_count": 32,
   "metadata": {},
   "outputs": [
    {
     "name": "stdout",
     "output_type": "stream",
     "text": [
      "Train = 89.41\n",
      "Test = 43.71\n",
      "Predict probability of survival for 10 passenger: [0.2        0.17       0.52       0.12       0.55       0.055\n",
      " 0.26956349 0.08       0.9        0.02      ]\n"
     ]
    }
   ],
   "source": [
    "RF = RandomForestRegressor(n_estimators = 100)\n",
    "RF.fit(X_train, y_train)\n",
    "\n",
    "rf_train_score = RF.score(X_train, y_train)\n",
    "rf_test_score = RF.score(X_test, y_test)\n",
    "rf_pred = RF.predict(X_pred)\n",
    "print(\"Train = {:.2f}\".format(rf_train_score*100))\n",
    "print(\"Test = {:.2f}\".format(rf_test_score*100))\n",
    "print(\"Predict probability of survival for 10 passenger:\",rf_pred[:10])"
   ]
  },
  {
   "cell_type": "markdown",
   "metadata": {},
   "source": [
    "## Predictive models"
   ]
  },
  {
   "cell_type": "code",
   "execution_count": 33,
   "metadata": {
    "scrolled": true
   },
   "outputs": [
    {
     "data": {
      "text/html": [
       "<div>\n",
       "<style scoped>\n",
       "    .dataframe tbody tr th:only-of-type {\n",
       "        vertical-align: middle;\n",
       "    }\n",
       "\n",
       "    .dataframe tbody tr th {\n",
       "        vertical-align: top;\n",
       "    }\n",
       "\n",
       "    .dataframe thead th {\n",
       "        text-align: right;\n",
       "    }\n",
       "</style>\n",
       "<table border=\"1\" class=\"dataframe\">\n",
       "  <thead>\n",
       "    <tr style=\"text-align: right;\">\n",
       "      <th></th>\n",
       "      <th>Model</th>\n",
       "      <th>Score-train</th>\n",
       "      <th>Score-test</th>\n",
       "    </tr>\n",
       "  </thead>\n",
       "  <tbody>\n",
       "    <tr>\n",
       "      <th>6</th>\n",
       "      <td>SGD</td>\n",
       "      <td>0.429260</td>\n",
       "      <td>0.434457</td>\n",
       "    </tr>\n",
       "    <tr>\n",
       "      <th>3</th>\n",
       "      <td>RF</td>\n",
       "      <td>0.894075</td>\n",
       "      <td>0.437071</td>\n",
       "    </tr>\n",
       "    <tr>\n",
       "      <th>7</th>\n",
       "      <td>LSVC</td>\n",
       "      <td>0.683280</td>\n",
       "      <td>0.707865</td>\n",
       "    </tr>\n",
       "    <tr>\n",
       "      <th>5</th>\n",
       "      <td>Perceptron</td>\n",
       "      <td>0.778135</td>\n",
       "      <td>0.786517</td>\n",
       "    </tr>\n",
       "    <tr>\n",
       "      <th>8</th>\n",
       "      <td>DT</td>\n",
       "      <td>0.987138</td>\n",
       "      <td>0.794007</td>\n",
       "    </tr>\n",
       "    <tr>\n",
       "      <th>1</th>\n",
       "      <td>KNN</td>\n",
       "      <td>0.839228</td>\n",
       "      <td>0.797753</td>\n",
       "    </tr>\n",
       "    <tr>\n",
       "      <th>4</th>\n",
       "      <td>GNB</td>\n",
       "      <td>0.779743</td>\n",
       "      <td>0.797753</td>\n",
       "    </tr>\n",
       "    <tr>\n",
       "      <th>0</th>\n",
       "      <td>SVM</td>\n",
       "      <td>0.839228</td>\n",
       "      <td>0.812734</td>\n",
       "    </tr>\n",
       "    <tr>\n",
       "      <th>2</th>\n",
       "      <td>LR</td>\n",
       "      <td>0.815113</td>\n",
       "      <td>0.846442</td>\n",
       "    </tr>\n",
       "  </tbody>\n",
       "</table>\n",
       "</div>"
      ],
      "text/plain": [
       "        Model  Score-train  Score-test\n",
       "6         SGD     0.429260    0.434457\n",
       "3          RF     0.894075    0.437071\n",
       "7        LSVC     0.683280    0.707865\n",
       "5  Perceptron     0.778135    0.786517\n",
       "8          DT     0.987138    0.794007\n",
       "1         KNN     0.839228    0.797753\n",
       "4         GNB     0.779743    0.797753\n",
       "0         SVM     0.839228    0.812734\n",
       "2          LR     0.815113    0.846442"
      ]
     },
     "execution_count": 33,
     "metadata": {},
     "output_type": "execute_result"
    }
   ],
   "source": [
    "Predictive_models = pd.DataFrame({\n",
    "    'Model': ['SVM', 'KNN', 'LR', 'RF', 'GNB', \n",
    "              'Perceptron','SGD', 'LSVC', 'DT'],\n",
    "    'Score-train': [svc_train_score, kn_train_score, lr_train_score, rf_train_score, gnb_train_score, \n",
    "              per_train_score, sgd_train_score, lsvc_train_score, dt_train_score],\n",
    "    'Score-test': [svc_test_score, kn_test_score, lr_test_score, rf_test_score, gnb_test_score, \n",
    "              per_test_score, sgd_test_score, lsvc_test_score, dt_test_score]})\n",
    "Predictive_models.sort_values(by ='Score-test', ascending=True)"
   ]
  },
  {
   "cell_type": "markdown",
   "metadata": {},
   "source": [
    "## Cross validation"
   ]
  },
  {
   "cell_type": "code",
   "execution_count": 34,
   "metadata": {},
   "outputs": [
    {
     "name": "stdout",
     "output_type": "stream",
     "text": [
      "LogisticRegression accuracy score per fold :  [0.79365079 0.85714286 0.83870968 0.80645161 0.77419355 0.87096774\n",
      " 0.85483871 0.72580645 0.83870968 0.70967742] \n",
      "\n",
      "Average accuracy score : 0.8070\n"
     ]
    }
   ],
   "source": [
    "LR = LogisticRegression()\n",
    "\n",
    "kfold = KFold(n_splits = 10, shuffle = True, random_state = 0)\n",
    "kfold_score = cross_val_score(LR, X_train, y_train, cv = kfold)\n",
    "\n",
    "kfold_score_mean = np.mean(kfold_score)\n",
    "  \n",
    "print(\"LogisticRegression accuracy score per fold : \", kfold_score, \"\\n\")\n",
    "print(\"Average accuracy score : {:.4f}\".format(kfold_score_mean))"
   ]
  },
  {
   "cell_type": "markdown",
   "metadata": {},
   "source": [
    "## Parameter tuning"
   ]
  },
  {
   "cell_type": "code",
   "execution_count": 35,
   "metadata": {},
   "outputs": [
    {
     "name": "stdout",
     "output_type": "stream",
     "text": [
      "BEST SCORE AND PARAMS: 0.8215434083601286 {'C': 1, 'penalty': 'l2', 'random_state': 0, 'solver': 'lbfgs'}\n",
      "BEST MODEL: LogisticRegression(C=1, class_weight=None, dual=False, fit_intercept=True,\n",
      "          intercept_scaling=1, max_iter=100, multi_class='warn',\n",
      "          n_jobs=None, penalty='l2', random_state=0, solver='lbfgs',\n",
      "          tol=0.0001, verbose=0, warm_start=False)\n",
      "Test result 0.8539325842696629\n"
     ]
    }
   ],
   "source": [
    "LR = LogisticRegression()\n",
    "\n",
    "parameters = {'penalty': ['l2'],\n",
    "             'C' : [0.001,0.01,0.1,1,10,100,1000],\n",
    "             'random_state': [0, 25, 75, 125, 250],\n",
    "             'solver': ['newton-cg', 'lbfgs', 'liblinear', 'sag', 'saga']}\n",
    "clf = GridSearchCV(LR, parameters)\n",
    "clf.fit(X_train, y_train)\n",
    "\n",
    "LR_Model = clf.best_estimator_\n",
    "print('BEST SCORE AND PARAMS:', clf.best_score_, clf.best_params_)\n",
    "print('BEST MODEL:', LR_Model)\n",
    "\n",
    "lr_best_score = LR_Model.score(X_test, y_test)\n",
    "print('Test result', lr_best_score)"
   ]
  }
 ],
 "metadata": {
  "kernelspec": {
   "display_name": "Python 3",
   "language": "python",
   "name": "python3"
  },
  "language_info": {
   "codemirror_mode": {
    "name": "ipython",
    "version": 3
   },
   "file_extension": ".py",
   "mimetype": "text/x-python",
   "name": "python",
   "nbconvert_exporter": "python",
   "pygments_lexer": "ipython3",
   "version": "3.6.7"
  }
 },
 "nbformat": 4,
 "nbformat_minor": 2
}
